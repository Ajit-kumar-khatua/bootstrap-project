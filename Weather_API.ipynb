{
  "nbformat": 4,
  "nbformat_minor": 0,
  "metadata": {
    "colab": {
      "name": "Weather API.ipynb",
      "provenance": [],
      "collapsed_sections": []
    },
    "kernelspec": {
      "name": "python3",
      "display_name": "Python 3"
    },
    "language_info": {
      "name": "python"
    }
  },
  "cells": [
    {
      "cell_type": "markdown",
      "metadata": {
        "id": "yWHvlcm5BHcZ"
      },
      "source": [
        "Project : Fetching Weather information with a third party API using python & recording this into a text file."
      ]
    },
    {
      "cell_type": "markdown",
      "metadata": {
        "id": "PTgZPJ-CCJzd"
      },
      "source": [
        "The API was provided by [**Open weather map**](https://openweathermap.org/)"
      ]
    },
    {
      "cell_type": "markdown",
      "metadata": {
        "id": "sV_byCCgCjcp"
      },
      "source": [
        "Now Imported Modules"
      ]
    },
    {
      "cell_type": "code",
      "metadata": {
        "id": "Y3erKkpIwYgv"
      },
      "source": [
        "import requests\n",
        "from datetime import datetime"
      ],
      "execution_count": null,
      "outputs": []
    },
    {
      "cell_type": "markdown",
      "metadata": {
        "id": "wzszoUVsBRD_"
      },
      "source": [
        "Used the API key, then took input from user."
      ]
    },
    {
      "cell_type": "code",
      "metadata": {
        "colab": {
          "base_uri": "https://localhost:8080/"
        },
        "id": "ZcQwSx-jBRy3",
        "outputId": "41b5a881-26ef-4c59-fa8c-fbc487854723"
      },
      "source": [
        "api_key = '87d845b0b6cf29baa1a73cc34b067a95'\n",
        "location = input(\"Enter the city name: \")"
      ],
      "execution_count": null,
      "outputs": [
        {
          "output_type": "stream",
          "text": [
            "Enter the city name: london\n"
          ],
          "name": "stdout"
        }
      ]
    },
    {
      "cell_type": "markdown",
      "metadata": {
        "id": "0ZyglAB6DGze"
      },
      "source": [
        "Getting whole data from API in .JSON format"
      ]
    },
    {
      "cell_type": "code",
      "metadata": {
        "id": "j_X7jR4yDH0w"
      },
      "source": [
        "complete_api_link = \"https://api.openweathermap.org/data/2.5/weather?q=\"+location+\"&appid=\"+api_key\n",
        "api_link = requests.get(complete_api_link)\n",
        "api_data = api_link.json()"
      ],
      "execution_count": null,
      "outputs": []
    },
    {
      "cell_type": "markdown",
      "metadata": {
        "id": "MTgAu2L4DkKW"
      },
      "source": [
        "Created variables to store data"
      ]
    },
    {
      "cell_type": "code",
      "metadata": {
        "id": "tgROH-_7Dk6H"
      },
      "source": [
        "temp_city = ((api_data['main']['temp']) - 273.15)\n",
        "weather_desc = api_data['weather'][0]['description']\n",
        "hmdt = api_data['main']['humidity']\n",
        "wind_spd = api_data['wind']['speed']\n",
        "date_time = datetime.now().strftime(\"%d %b %Y | %I:%M:%S %p\")\n"
      ],
      "execution_count": null,
      "outputs": []
    },
    {
      "cell_type": "markdown",
      "metadata": {
        "id": "jQRKMRrbPtz9"
      },
      "source": [
        "Displaying Data"
      ]
    },
    {
      "cell_type": "code",
      "metadata": {
        "colab": {
          "base_uri": "https://localhost:8080/"
        },
        "id": "l19rUhv6Pxf-",
        "outputId": "eb799501-da8c-4289-9064-cd641b878c05"
      },
      "source": [
        "print (\"-------------------------------------------------------------\")\n",
        "print (\"Weather Stats for - {}  || {}\".format(location.upper(), date_time))\n",
        "print (\"-------------------------------------------------------------\")\n",
        "\n",
        "print (\"Current temperature is: {:.2f} deg C\".format(temp_city))\n",
        "print (\"Current weather desc  :\",weather_desc)\n",
        "print (\"Current Humidity      :\",hmdt, '%')\n",
        "print (\"Current wind speed    :\",wind_spd ,'kmph')"
      ],
      "execution_count": null,
      "outputs": [
        {
          "output_type": "stream",
          "text": [
            "-------------------------------------------------------------\n",
            "Weather Stats for - LONDON  || 22 Jun 2021 | 03:57:00 PM\n",
            "-------------------------------------------------------------\n",
            "Current temperature is: 16.12 deg C\n",
            "Current weather desc  : overcast clouds\n",
            "Current Humidity      : 58 %\n",
            "Current wind speed    : 1.79 kmph\n"
          ],
          "name": "stdout"
        }
      ]
    },
    {
      "cell_type": "markdown",
      "metadata": {
        "id": "iTFjrO_UQuoc"
      },
      "source": [
        "Storing the Data in a text file."
      ]
    },
    {
      "cell_type": "code",
      "metadata": {
        "id": "JcKAv8HqSEzf"
      },
      "source": [
        "f = open('weather in notepad.txt', 'w')"
      ],
      "execution_count": null,
      "outputs": []
    },
    {
      "cell_type": "code",
      "metadata": {
        "id": "wEB_TFJ8Uh9u"
      },
      "source": [
        "print (\"-------------------------------------------------------------\", file=f)\n",
        "print (\"Weather Stats for - {}  || {}\".format(location.upper(), date_time), file=f)\n",
        "print (\"-------------------------------------------------------------\", file=f)\n",
        "\n",
        "print (\"Current temperature is: {:.2f} deg C\".format(temp_city), file=f)\n",
        "print (\"Current weather desc  :\",weather_desc, file=f)\n",
        "print (\"Current Humidity      :\",hmdt, '%', file=f)\n",
        "print (\"Current wind speed    :\",wind_spd ,'kmph', file=f)"
      ],
      "execution_count": null,
      "outputs": []
    },
    {
      "cell_type": "code",
      "metadata": {
        "id": "TgbYA_SbUyTk"
      },
      "source": [
        "f.close()"
      ],
      "execution_count": null,
      "outputs": []
    }
  ]
}